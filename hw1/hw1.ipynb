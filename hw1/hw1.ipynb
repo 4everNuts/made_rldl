{
 "cells": [
  {
   "cell_type": "code",
   "execution_count": 118,
   "metadata": {},
   "outputs": [],
   "source": [
    "import blackjack\n",
    "import numpy as np\n",
    "import matplotlib.pyplot as plt\n",
    "from tqdm import tqdm"
   ]
  },
  {
   "cell_type": "markdown",
   "metadata": {},
   "source": [
    "# Часть первая, с блекджеком и стратегиями"
   ]
  },
  {
   "cell_type": "markdown",
   "metadata": {},
   "source": [
    "### 1. Рассмотрим очень простую стратегию: говорить stand, если у нас на руках комбинация в 19, 20 или 21 очко, во всех остал/ьных случаях говорить hit. Используйте методы Монте-Карло, чтобы оценить выигрыш от этой стратегии."
   ]
  },
  {
   "cell_type": "code",
   "execution_count": 186,
   "metadata": {},
   "outputs": [],
   "source": [
    "# Используем класс по ссылке задания - https://github.com/openai/gym/blob/master/gym/envs/toy_text/blackjack.py \n",
    "env = blackjack.BlackjackEnv(natural=True)"
   ]
  },
  {
   "cell_type": "code",
   "execution_count": 122,
   "metadata": {},
   "outputs": [
    {
     "data": {
      "text/plain": [
       "-0.176285"
      ]
     },
     "execution_count": 122,
     "metadata": {},
     "output_type": "execute_result"
    }
   ],
   "source": [
    "# Усредняем награду по n эпизодам\n",
    "n = 100000\n",
    "rewards = []\n",
    "for i in range(n):\n",
    "    obs = env.reset()\n",
    "    while(True):\n",
    "        if (obs[0] >= 19) and (obs[0] <= 21):\n",
    "            obs, reward, done, _ = env.step(0)\n",
    "        else:\n",
    "            obs, reward, done, _ = env.step(1)\n",
    "        if done:\n",
    "            break\n",
    "    rewards.append(reward)\n",
    "np.mean(rewards)"
   ]
  },
  {
   "cell_type": "markdown",
   "metadata": {},
   "source": [
    "### 2. Реализуйте метод обучения с подкреплением без модели (можно Q-обучение, но рекомендую попробовать и другие, например Monte Carlo control) для обучения стратегии в блекджеке, используя окружение Blackjack-v0 из OpenAI Gym"
   ]
  },
  {
   "cell_type": "code",
   "execution_count": 158,
   "metadata": {},
   "outputs": [],
   "source": [
    "class Q_learning():\n",
    "    # epsilon-greedy Q learning\n",
    "    \n",
    "    def __init__(self, env, alpha=0.1, gamma=1, eps=0.1):\n",
    "        self.env = env\n",
    "        self.alpha = alpha\n",
    "        self.gamma = gamma\n",
    "        self.eps = eps\n",
    "        self.q = np.zeros(([d.n for d in env.observation_space] + [env.action_space.n]))\n",
    "        \n",
    "        \n",
    "    def get_action(self, obs, train=True):\n",
    "        # switch to greedy when we don't need exploration\n",
    "        if train:\n",
    "            # epsilon-greedy\n",
    "            if np.random.rand() < self.eps:\n",
    "                # random action\n",
    "                action = np.random.randint(0, self.env.action_space.n)\n",
    "            else:\n",
    "                # use policy (action with the highest q(s, a))\n",
    "                q_s  = q[obs[0], obs[1], int(obs[2])] # get action q's for given state, n = action_space\n",
    "                action = np.argmax(q_s)\n",
    "            return action\n",
    "        else:\n",
    "            # greedy\n",
    "            q_s  = q[obs[0], obs[1], int(obs[2])] # get action q's for given state, n = action_space\n",
    "            action = np.argmax(q_s)\n",
    "            return action\n",
    "\n",
    "\n",
    "    def train(self, steps, steps_to_validate, validation_episodes=100000):\n",
    "        obs = env.reset()\n",
    "        self.validation_rewards = []\n",
    "        for i in tqdm(range(steps)):\n",
    "            action = self.get_action(obs)\n",
    "            # performing the action\n",
    "            obs_next, reward, done, _ = env.step(action)\n",
    "            q[obs[0], obs[1], int(obs[2]), action] = (1 - self.alpha) * q[obs[0], obs[1], int(obs[2]), action] +\\\n",
    "                self.alpha * (reward + self.gamma * np.max(q[obs_next[0], obs_next[1], int(obs_next[2])]))\n",
    "            if done:\n",
    "                obs = env.reset()\n",
    "            else:\n",
    "                obs = obs_next\n",
    "            if ((i + 1) % steps_to_validate==0 and i!=0):\n",
    "                mean_reward = self.validate(validation_episodes)\n",
    "                self.validation_rewards.append(mean_reward)\n",
    "        print('Training done')\n",
    "        return self.validation_rewards\n",
    "        \n",
    "    def validate(self, episodes):\n",
    "        rewards = []\n",
    "        for i in range(episodes):\n",
    "            obs = env.reset()\n",
    "            while(True):\n",
    "                action = self.get_action(obs, train=False)\n",
    "                obs, reward, done, _ = env.step(action)\n",
    "                if done:\n",
    "                    break\n",
    "            rewards.append(reward)\n",
    "        return np.mean(rewards)"
   ]
  },
  {
   "cell_type": "markdown",
   "metadata": {},
   "source": [
    "### 3. Сколько выигрывает казино у вашей стратегии? Нарисуйте графики среднего дохода вашего метода (усреднённого по крайней мере по 100000 раздач, а лучше больше) по ходу обучения. Попробуйте подобрать оптимальные гиперпараметры.\n"
   ]
  },
  {
   "cell_type": "code",
   "execution_count": 159,
   "metadata": {},
   "outputs": [],
   "source": [
    "env = blackjack.BlackjackEnv(natural=True)"
   ]
  },
  {
   "cell_type": "code",
   "execution_count": 171,
   "metadata": {},
   "outputs": [],
   "source": [
    "q_learing = Q_learning(env, alpha=0.9, eps=0.2)"
   ]
  },
  {
   "cell_type": "code",
   "execution_count": 176,
   "metadata": {},
   "outputs": [
    {
     "name": "stderr",
     "output_type": "stream",
     "text": [
      "100%|██████████| 5000000/5000000 [05:58<00:00, 13930.55it/s]"
     ]
    },
    {
     "name": "stdout",
     "output_type": "stream",
     "text": [
      "Training done\n"
     ]
    },
    {
     "name": "stderr",
     "output_type": "stream",
     "text": [
      "\n"
     ]
    }
   ],
   "source": [
    "results = q_learing.train(int(5e6), int(5e5), int(1e5))"
   ]
  },
  {
   "cell_type": "code",
   "execution_count": 177,
   "metadata": {},
   "outputs": [
    {
     "data": {
      "text/plain": [
       "[<matplotlib.lines.Line2D at 0x7ff071663b20>]"
      ]
     },
     "execution_count": 177,
     "metadata": {},
     "output_type": "execute_result"
    },
    {
     "data": {
      "image/png": "[encoded data removed]",
      "text/plain": [
       "<Figure size 432x288 with 1 Axes>"
      ]
     },
     "metadata": {
      "needs_background": "light"
     },
     "output_type": "display_data"
    }
   ],
   "source": [
    "plt.plot([(i+1)*5e5 for i in range(len(results))], results)"
   ]
  },
  {
   "cell_type": "code",
   "execution_count": 187,
   "metadata": {},
   "outputs": [
    {
     "name": "stdout",
     "output_type": "stream",
     "text": [
      "С учетом относительно оптимальных гиперпараметров казино в среднем выигрывает -0.1663965 ставок\n"
     ]
    }
   ],
   "source": [
    "print(f'С учетом относительно оптимальных гиперпараметров казино в среднем выигрывает {q_learing.validate(int(1e6))} ставок')"
   ]
  },
  {
   "cell_type": "markdown",
   "metadata": {},
   "source": [
    "# Часть вторая, удвоенная"
   ]
  },
  {
   "cell_type": "markdown",
   "metadata": {},
   "source": [
    "### 4. Реализуйте новый вариант блекджека на основе окружения Blackjack-v0 из OpenAI Gym, в котором разрешено удвоение ставки.\n"
   ]
  },
  {
   "cell_type": "code",
   "execution_count": 188,
   "metadata": {},
   "outputs": [],
   "source": [
    "# см. blackjack.py - добавлено третье действие в новый класс\n",
    "env = blackjack.BlackjackDoubleEnv(natural=True)"
   ]
  },
  {
   "cell_type": "code",
   "execution_count": 190,
   "metadata": {},
   "outputs": [
    {
     "data": {
      "text/plain": [
       "Discrete(3)"
      ]
     },
     "execution_count": 190,
     "metadata": {},
     "output_type": "execute_result"
    }
   ],
   "source": [
    "env.action_space"
   ]
  },
  {
   "cell_type": "markdown",
   "metadata": {},
   "source": [
    "### 5. Реализуйте метод обучения с подкреплением без модели для этого варианта, постройте графики, аналогичные п.2."
   ]
  }
 ],
 "metadata": {
  "kernelspec": {
   "display_name": "dl",
   "language": "python",
   "name": "dl"
  },
  "language_info": {
   "codemirror_mode": {
    "name": "ipython",
    "version": 3
   },
   "file_extension": ".py",
   "mimetype": "text/x-python",
   "name": "python",
   "nbconvert_exporter": "python",
   "pygments_lexer": "ipython3",
   "version": "3.8.10"
  }
 },
 "nbformat": 4,
 "nbformat_minor": 4
}
