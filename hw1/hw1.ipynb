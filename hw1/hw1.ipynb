{
 "cells": [
  {
   "cell_type": "markdown",
   "metadata": {},
   "source": [
    "# Учимся использовать RL для обучения стратегий игры в блэкджек"
   ]
  },
  {
   "cell_type": "code",
   "execution_count": 1,
   "metadata": {},
   "outputs": [],
   "source": [
    "import blackjack\n",
    "import numpy as np\n",
    "import matplotlib.pyplot as plt\n",
    "from tqdm import tqdm"
   ]
  },
  {
   "cell_type": "markdown",
   "metadata": {},
   "source": [
    "# Часть первая, с блекджеком и стратегиями"
   ]
  },
  {
   "cell_type": "markdown",
   "metadata": {},
   "source": [
    "### 1. Рассмотрим очень простую стратегию: говорить stand, если у нас на руках комбинация в 19, 20 или 21 очко, во всех остал/ьных случаях говорить hit. Используйте методы Монте-Карло, чтобы оценить выигрыш от этой стратегии."
   ]
  },
  {
   "cell_type": "code",
   "execution_count": 2,
   "metadata": {},
   "outputs": [],
   "source": [
    "# Используем класс по ссылке задания - https://github.com/openai/gym/blob/master/gym/envs/toy_text/blackjack.py \n",
    "env = blackjack.BlackjackEnv(natural=True)"
   ]
  },
  {
   "cell_type": "code",
   "execution_count": 3,
   "metadata": {},
   "outputs": [
    {
     "data": {
      "text/plain": [
       "-0.1781"
      ]
     },
     "execution_count": 3,
     "metadata": {},
     "output_type": "execute_result"
    }
   ],
   "source": [
    "# Усредняем награду по n эпизодам\n",
    "n = 100000\n",
    "rewards = []\n",
    "for i in range(n):\n",
    "    obs = env.reset()\n",
    "    while(True):\n",
    "        ifobs, reward, done, _ = env.step(0) (obs[0] >= 19) and (obs[0] <= 21):\n",
    "            obs, reward, done, _ = env.step(0)\n",
    "        else:\n",
    "            obs, reward, done, _ = env.step(1)\n",
    "        if done:\n",
    "            break\n",
    "    rewards.append(reward)\n",
    "np.mean(rewards)"
   ]
  },
  {
   "cell_type": "markdown",
   "metadata": {},
   "source": [
    "### 2. Реализуйте метод обучения с подкреплением без модели (можно Q-обучение, но рекомендую попробовать и другие, например Monte Carlo control) для обучения стратегии в блекджеке, используя окружение Blackjack-v0 из OpenAI Gym"
   ]
  },
  {
   "cell_type": "code",
   "execution_count": 4,
   "metadata": {},
   "outputs": [],
   "source": [
    "class Q_learning():\n",
    "    # epsilon-greedy Q learning\n",
    "    \n",
    "    def __init__(self, env, alpha=0.1, gamma=1, eps=0.1):\n",
    "        self.env = env\n",
    "        self.alpha = alpha\n",
    "        self.gamma = gamma\n",
    "        self.eps = eps\n",
    "        self.q = np.zeros(([d.n for d in env.observation_space] + [env.action_space.n]))\n",
    "        \n",
    "        \n",
    "    def get_action(self, obs, train=True):\n",
    "        # switch to greedy when we don't need exploration\n",
    "        if train:\n",
    "            # epsilon-greedy\n",
    "            if np.random.rand() < self.eps:\n",
    "                # random action\n",
    "                action = np.random.randint(0, self.env.action_space.n)\n",
    "            else:\n",
    "                # use policy (action with the highest q(s, a))\n",
    "                q_s  = self.q[obs[0], obs[1], int(obs[2])] # get action q's for given state, n = action_space\n",
    "                action = np.argmax(q_s)\n",
    "            return action\n",
    "        else:\n",
    "            # greedy\n",
    "            q_s  = self.q[obs[0], obs[1], int(obs[2])] # get action q's for given state, n = action_space\n",
    "            action = np.argmax(q_s)\n",
    "            return action\n",
    "\n",
    "\n",
    "    def train(self, steps, steps_to_validate, validation_episodes=100000):\n",
    "        obs = self.env.reset()\n",
    "        self.validation_rewards = []\n",
    "        for i in tqdm(range(steps)):\n",
    "            action = self.get_action(obs)\n",
    "            # performing the action\n",
    "            obs_next, reward, done, _ = self.env.step(action)\n",
    "            self.q[obs[0], obs[1], int(obs[2]), action] = (1 - self.alpha) * self.q[obs[0], obs[1], int(obs[2]), action] +\\\n",
    "                self.alpha * (reward + self.gamma * np.max(self.q[obs_next[0], obs_next[1], int(obs_next[2])]))\n",
    "            if done:\n",
    "                obs = self.env.reset()\n",
    "            else:\n",
    "                obs = obs_next\n",
    "            if ((i + 1) % steps_to_validate==0 and i!=0):\n",
    "                mean_reward = self.validate(validation_episodes)\n",
    "                self.validation_rewards.append(mean_reward)\n",
    "        print('Training done')\n",
    "        return self.validation_rewards\n",
    "        \n",
    "    def validate(self, episodes):\n",
    "        rewards = []\n",
    "        for i in range(episodes):\n",
    "            obs = self.env.reset()\n",
    "            while(True):\n",
    "                action = self.get_action(obs, train=False)\n",
    "                obs, reward, done, _ = self.env.step(action)\n",
    "                if done:\n",
    "                    break\n",
    "            rewards.append(reward)\n",
    "        return np.mean(rewards)"
   ]
  },
  {
   "cell_type": "markdown",
   "metadata": {},
   "source": [
    "### 3. Сколько выигрывает казино у вашей стратегии? Нарисуйте графики среднего дохода вашего метода (усреднённого по крайней мере по 100000 раздач, а лучше больше) по ходу обучения. Попробуйте подобрать оптимальные гиперпараметры.\n"
   ]
  },
  {
   "cell_type": "code",
   "execution_count": 5,
   "metadata": {},
   "outputs": [
    {
     "name": "stderr",
     "output_type": "stream",
     "text": [
      "100%|██████████| 5000000/5000000 [05:05<00:00, 16374.72it/s]"
     ]
    },
    {
     "name": "stdout",
     "output_type": "stream",
     "text": [
      "Training done\n"
     ]
    },
    {
     "name": "stderr",
     "output_type": "stream",
     "text": [
      "\n"
     ]
    }
   ],
   "source": [
    "env = blackjack.BlackjackEnv(natural=True)\n",
    "q_learing = Q_learning(env, alpha=0.9, eps=0.2, gamma=0.99)\n",
    "results = q_learing.train(int(5e6), int(5e5), int(1e5))"
   ]
  },
  {
   "cell_type": "code",
   "execution_count": 6,
   "metadata": {},
   "outputs": [
    {
     "data": {
      "text/plain": [
       "[<matplotlib.lines.Line2D at 0x7f88f2cc32e0>]"
      ]
     },
     "execution_count": 6,
     "metadata": {},
     "output_type": "execute_result"
    },
    {
     "data": {
      "image/png": "[encoded data removed]",
      "text/plain": [
       "<Figure size 432x288 with 1 Axes>"
      ]
     },
     "metadata": {
      "needs_background": "light"
     },
     "output_type": "display_data"
    }
   ],
   "source": [
    "plt.plot([(i+1)*5e5 for i in range(len(results))], results)"
   ]
  },
  {
   "cell_type": "code",
   "execution_count": 7,
   "metadata": {},
   "outputs": [
    {
     "name": "stdout",
     "output_type": "stream",
     "text": [
      "С учетом относительно оптимальных гиперпараметров мы в среднем выигрываем -0.136125 ставок\n"
     ]
    }
   ],
   "source": [
    "print(f'С учетом относительно оптимальных гиперпараметров мы в среднем выигрываем {results[-1]} ставок')"
   ]
  },
  {
   "cell_type": "markdown",
   "metadata": {},
   "source": [
    "# Часть вторая, удвоенная"
   ]
  },
  {
   "cell_type": "markdown",
   "metadata": {},
   "source": [
    "### 4. Реализуйте новый вариант блекджека на основе окружения Blackjack-v0 из OpenAI Gym, в котором разрешено удвоение ставки.\n"
   ]
  },
  {
   "cell_type": "code",
   "execution_count": 8,
   "metadata": {},
   "outputs": [
    {
     "data": {
      "text/plain": [
       "Discrete(3)"
      ]
     },
     "execution_count": 8,
     "metadata": {},
     "output_type": "execute_result"
    }
   ],
   "source": [
    "# см. blackjack.py - добавлено третье действие в новый класс\n",
    "env = blackjack.BlackjackDoubleEnv(natural=True)\n",
    "env.action_space"
   ]
  },
  {
   "cell_type": "markdown",
   "metadata": {},
   "source": [
    "### 5. Реализуйте метод обучения с подкреплением без модели для этого варианта, постройте графики, аналогичные п.2."
   ]
  },
  {
   "cell_type": "code",
   "execution_count": 9,
   "metadata": {},
   "outputs": [],
   "source": [
    "class Monte_Carlo_control():\n",
    "    # epsilon-greedy Q learning\n",
    "    \n",
    "    def __init__(self, env, gamma=0.99):\n",
    "        self.env = env\n",
    "        self.gamma = gamma\n",
    "        self.q = np.zeros(([d.n for d in env.observation_space] + [env.action_space.n]))\n",
    "        self.ret_n = np.zeros(([d.n for d in env.observation_space] + [env.action_space.n]))\n",
    "        \n",
    "        \n",
    "    def get_action(self, obs, train=True):\n",
    "        # greedy\n",
    "        q_s  = self.q[obs[0], obs[1], int(obs[2])] # get action q's for given state, n = action_space\n",
    "        action = np.argmax(q_s)\n",
    "        return action\n",
    "\n",
    "    def generate_episode (self):\n",
    "        # generating episode with random initial state and action\n",
    "        episode = []\n",
    "        obs = self.env.reset()\n",
    "        # randomly initializing first action\n",
    "        action = np.random.randint(0, self.env.action_space.n)\n",
    "        while(True):\n",
    "            obs_next, reward, done, _ = self.env.step(action)\n",
    "            episode.append((obs, action, reward))\n",
    "            obs = obs_next\n",
    "            action = self.get_action(obs, train=False)\n",
    "            if done:\n",
    "                break\n",
    "        return episode\n",
    "\n",
    "    def train(self, steps, steps_to_validate, validation_episodes=100000):\n",
    "        self.validation_rewards = []\n",
    "        for i in tqdm(range(steps)):\n",
    "            episode = self.generate_episode()\n",
    "            g = 0\n",
    "            for step in reversed(episode):\n",
    "                obs, action, reward = step\n",
    "                g = reward + self.gamma * g\n",
    "                cur_ret = self.q[obs[0], obs[1], int(obs[2]), action]\n",
    "                cur_ret_n = self.ret_n[obs[0], obs[1], int(obs[2]), action]\n",
    "                # updating q using running mean of ret\n",
    "                self.q[obs[0], obs[1], int(obs[2]), action] = cur_ret * cur_ret_n / (cur_ret_n + 1) + g / (cur_ret_n + 1)\n",
    "                self.ret_n[obs[0], obs[1], int(obs[2]), action] += 1                \n",
    "            if ((i + 1) % steps_to_validate==0 and i!=0):\n",
    "                mean_reward = self.validate(validation_episodes)\n",
    "                self.validation_rewards.append(mean_reward)\n",
    "        print('Training done')\n",
    "        return self.validation_rewards\n",
    "        \n",
    "    def validate(self, episodes):\n",
    "        rewards = []\n",
    "        for i in range(episodes):\n",
    "            obs = self.env.reset()\n",
    "            while(True):\n",
    "                action = self.get_action(obs, train=False)\n",
    "                obs, reward, done, _ = self.env.step(action)\n",
    "                if done:\n",
    "                    break\n",
    "            rewards.append(reward)\n",
    "        return np.mean(rewards)"
   ]
  },
  {
   "cell_type": "code",
   "execution_count": 10,
   "metadata": {},
   "outputs": [
    {
     "name": "stderr",
     "output_type": "stream",
     "text": [
      "100%|██████████| 1000000/1000000 [01:40<00:00, 9909.64it/s]"
     ]
    },
    {
     "name": "stdout",
     "output_type": "stream",
     "text": [
      "Training done\n"
     ]
    },
    {
     "name": "stderr",
     "output_type": "stream",
     "text": [
      "\n"
     ]
    }
   ],
   "source": [
    "env_double = blackjack.BlackjackDoubleEnv(natural=True)\n",
    "mc_double = Monte_Carlo_control(env_double, gamma=0.99)\n",
    "results_double = mc_double.train(int(1e6), int(1e5), int(1e5))"
   ]
  },
  {
   "cell_type": "code",
   "execution_count": 11,
   "metadata": {},
   "outputs": [
    {
     "data": {
      "text/plain": [
       "[<matplotlib.lines.Line2D at 0x7f88f2b435e0>]"
      ]
     },
     "execution_count": 11,
     "metadata": {},
     "output_type": "execute_result"
    },
    {
     "data": {
      "image/png": "[encoded data removed]",
      "text/plain": [
       "<Figure size 432x288 with 1 Axes>"
      ]
     },
     "metadata": {
      "needs_background": "light"
     },
     "output_type": "display_data"
    }
   ],
   "source": [
    "plt.plot([(i+1)*1e5 for i in range(len(results_double))], results_double)"
   ]
  },
  {
   "cell_type": "code",
   "execution_count": 12,
   "metadata": {},
   "outputs": [
    {
     "name": "stdout",
     "output_type": "stream",
     "text": [
      "В игре с двойной ставкой мы в среднем выигрываем -0.01261 ставок\n"
     ]
    }
   ],
   "source": [
    "print(f'В игре с двойной ставкой мы в среднем выигрываем {results_double[-1]} ставок')"
   ]
  },
  {
   "cell_type": "markdown",
   "metadata": {},
   "source": [
    "##### Тестируем Monte Carlo control на обычном блэкджеке для сравнения с Q learning"
   ]
  },
  {
   "cell_type": "code",
   "execution_count": 14,
   "metadata": {},
   "outputs": [
    {
     "name": "stderr",
     "output_type": "stream",
     "text": [
      "100%|██████████| 1000000/1000000 [01:41<00:00, 9894.69it/s]"
     ]
    },
    {
     "name": "stdout",
     "output_type": "stream",
     "text": [
      "Training done\n"
     ]
    },
    {
     "name": "stderr",
     "output_type": "stream",
     "text": [
      "\n"
     ]
    }
   ],
   "source": [
    "env = blackjack.BlackjackEnv(natural=True)\n",
    "mc = Monte_Carlo_control(env, gamma=0.99)\n",
    "results_mc_normal = mc.train(int(1e6), int(1e5), int(1e5))"
   ]
  },
  {
   "cell_type": "code",
   "execution_count": 15,
   "metadata": {},
   "outputs": [
    {
     "data": {
      "text/plain": [
       "[<matplotlib.lines.Line2D at 0x7f88f09caa60>]"
      ]
     },
     "execution_count": 15,
     "metadata": {},
     "output_type": "execute_result"
    },
    {
     "data": {
      "image/png": "[encoded data removed]",
      "text/plain": [
       "<Figure size 432x288 with 1 Axes>"
      ]
     },
     "metadata": {
      "needs_background": "light"
     },
     "output_type": "display_data"
    }
   ],
   "source": [
    "plt.plot([(i+1)*1e5 for i in range(len(results_mc_normal))], results_mc_normal)"
   ]
  },
  {
   "cell_type": "code",
   "execution_count": 16,
   "metadata": {},
   "outputs": [
    {
     "name": "stdout",
     "output_type": "stream",
     "text": [
      "С учетом относительно оптимальных гиперпараметров мы в среднем выигрываем -0.022185 ставок, что немного лучше, чем в Q learning\n"
     ]
    }
   ],
   "source": [
    "print(f'С учетом относительно оптимальных гиперпараметров мы в среднем выигрываем {results_mc_normal[-1]} ставок, что немного лучше, чем в Q learning')"
   ]
  },
  {
   "cell_type": "markdown",
   "metadata": {},
   "source": [
    "# Часть третья, в главной роли — Дастин Хоффман"
   ]
  },
  {
   "cell_type": "markdown",
   "metadata": {},
   "source": [
    "### 6. Реализуйте вариант окружения Blackjack-v0 из предыдущей части (с удвоением), в котором игрок имеет возможность “считать карты” в колоде. Это можно сделать разными способами; возможно, вам поможет статья википедии о блекджеке (а возможно, и нет)."
   ]
  },
  {
   "cell_type": "code",
   "execution_count": 17,
   "metadata": {},
   "outputs": [],
   "source": [
    "# см. blackjack.py - добавлена система подсчёта «Плюс-минус», дефолтно - 6 колод\n",
    "env_6 = blackjack.BlackjackDouble_6_Env(natural=True)"
   ]
  },
  {
   "cell_type": "code",
   "execution_count": 18,
   "metadata": {},
   "outputs": [
    {
     "data": {
      "text/plain": [
       "(0.0, 0.0009)"
      ]
     },
     "execution_count": 18,
     "metadata": {},
     "output_type": "execute_result"
    }
   ],
   "source": [
    "# Умеет выводить как текущий счетчик, так и связянную с этим дельту вероятности выигрыша\n",
    "env_6.get_true_count(), env_6.get_proba_diff()"
   ]
  },
  {
   "cell_type": "markdown",
   "metadata": {},
   "source": [
    "### 7. Реализуйте метод обучения с подкреплением без модели для этого варианта, постройте графики, аналогичные п.2."
   ]
  },
  {
   "cell_type": "code",
   "execution_count": 19,
   "metadata": {},
   "outputs": [],
   "source": [
    "# Q learning с изменением в политике\n",
    "class Q_learning_6():\n",
    "    # epsilon-greedy Q learning\n",
    "    \n",
    "    def __init__(self, env, alpha=0.1, gamma=1, eps=0.1):\n",
    "        self.env = env\n",
    "        self.alpha = alpha\n",
    "        self.gamma = gamma\n",
    "        self.eps = eps\n",
    "        self.q = np.zeros(([d.n for d in env.observation_space] + [env.action_space.n]))\n",
    "        \n",
    "        \n",
    "    def get_action(self, obs, proba_diff=0, train=True):\n",
    "        # switch to greedy when we don't need exploration\n",
    "        if train:\n",
    "            # epsilon-greedy\n",
    "            if np.random.rand() < self.eps:\n",
    "                # random action\n",
    "                action = np.random.randint(0, self.env.action_space.n)\n",
    "            else:\n",
    "                # use policy (action with the highest q(s, a))\n",
    "                q_s  = self.q[obs[0], obs[1], int(obs[2])].copy() # get action q's for given state, n = action_space\n",
    "                q_s += np.array([i * proba_diff for i in range(self.env.action_space.n)])\n",
    "                action = np.argmax(q_s)\n",
    "            return action\n",
    "        else:\n",
    "            # greedy\n",
    "            q_s  = self.q[obs[0], obs[1], int(obs[2])].copy() # get action q's for given state, n = action_space\n",
    "            q_s += np.array([i * proba_diff for i in range(self.env.action_space.n)])\n",
    "            action = np.argmax(q_s)\n",
    "            return action\n",
    "\n",
    "\n",
    "    def train(self, steps, steps_to_validate, validation_episodes=100000):\n",
    "        obs = self.env.reset()\n",
    "        self.validation_rewards = []\n",
    "        for i in tqdm(range(steps)):\n",
    "            proba_diff = self.env.get_proba_diff()\n",
    "            action = self.get_action(obs, proba_diff)\n",
    "            # performing the action\n",
    "            obs_next, reward, done, _ = self.env.step(action)\n",
    "            self.q[obs[0], obs[1], int(obs[2]), action] = (1 - self.alpha) * self.q[obs[0], obs[1], int(obs[2]), action] +\\\n",
    "                self.alpha * (reward + self.gamma * np.max(self.q[obs_next[0], obs_next[1], int(obs_next[2])]))\n",
    "            if done:\n",
    "                obs = self.env.reset()\n",
    "            else:\n",
    "                obs = obs_next\n",
    "            if ((i + 1) % steps_to_validate==0 and i!=0):\n",
    "                mean_reward = self.validate(validation_episodes)\n",
    "                self.validation_rewards.append(mean_reward)\n",
    "        print('Training done')\n",
    "        return self.validation_rewards\n",
    "        \n",
    "    def validate(self, episodes):\n",
    "        rewards = []\n",
    "        for i in range(episodes):\n",
    "            obs = self.env.reset()\n",
    "            while(True):\n",
    "                proba_diff = self.env.get_proba_diff()\n",
    "                action = self.get_action(obs, proba_diff, train=False)\n",
    "                obs, reward, done, _ = self.env.step(action)\n",
    "                if done:\n",
    "                    break\n",
    "            rewards.append(reward)\n",
    "        return np.mean(rewards)"
   ]
  },
  {
   "cell_type": "code",
   "execution_count": 21,
   "metadata": {},
   "outputs": [
    {
     "name": "stderr",
     "output_type": "stream",
     "text": [
      "100%|██████████| 1000000/1000000 [00:57<00:00, 17537.90it/s]"
     ]
    },
    {
     "name": "stdout",
     "output_type": "stream",
     "text": [
      "Training done\n"
     ]
    },
    {
     "name": "stderr",
     "output_type": "stream",
     "text": [
      "\n"
     ]
    }
   ],
   "source": [
    "env_6 = blackjack.BlackjackDouble_6_Env(natural=True)\n",
    "q_learning_6 = Q_learning_6(env_6, alpha=0.9, eps=0.2, gamma=0.99)\n",
    "results_6 = q_learning_6.train(int(1e6), int(1e5), int(1e5))"
   ]
  },
  {
   "cell_type": "code",
   "execution_count": 22,
   "metadata": {},
   "outputs": [
    {
     "data": {
      "text/plain": [
       "[<matplotlib.lines.Line2D at 0x7f88f2b363a0>]"
      ]
     },
     "execution_count": 22,
     "metadata": {},
     "output_type": "execute_result"
    },
    {
     "data": {
      "image/png": "[encoded data removed]",
      "text/plain": [
       "<Figure size 432x288 with 1 Axes>"
      ]
     },
     "metadata": {
      "needs_background": "light"
     },
     "output_type": "display_data"
    }
   ],
   "source": [
    "plt.plot([(i+1)*1e5 for i in range(len(results_6))], results_6)"
   ]
  },
  {
   "cell_type": "code",
   "execution_count": 23,
   "metadata": {},
   "outputs": [
    {
     "name": "stdout",
     "output_type": "stream",
     "text": [
      "В игре с подсчетом мы в среднем выигрываем -0.143375 ставок\n"
     ]
    }
   ],
   "source": [
    "print(f'В игре с подсчетом мы в среднем выигрываем {results_6[-1]} ставок')"
   ]
  },
  {
   "cell_type": "markdown",
   "metadata": {},
   "source": [
    "##### Тестируем тот же Q learning на двойном блэкджеке без подсчета для sense check - результаты без подсчета должны быть ниже"
   ]
  },
  {
   "cell_type": "code",
   "execution_count": 24,
   "metadata": {},
   "outputs": [
    {
     "name": "stderr",
     "output_type": "stream",
     "text": [
      "100%|██████████| 1000000/1000000 [01:38<00:00, 10196.62it/s]"
     ]
    },
    {
     "name": "stdout",
     "output_type": "stream",
     "text": [
      "Training done\n"
     ]
    },
    {
     "name": "stderr",
     "output_type": "stream",
     "text": [
      "\n"
     ]
    }
   ],
   "source": [
    "env_double = blackjack.BlackjackDoubleEnv(natural=True)\n",
    "q_learning_double = Q_learning(env_double, alpha=0.9, eps=0.2, gamma=0.99)\n",
    "results_double_q = q_learning_double.train(int(1e6), int(1e5), int(1e5))"
   ]
  },
  {
   "cell_type": "code",
   "execution_count": 25,
   "metadata": {},
   "outputs": [
    {
     "data": {
      "text/plain": [
       "[<matplotlib.lines.Line2D at 0x7f88f0ade1f0>]"
      ]
     },
     "execution_count": 25,
     "metadata": {},
     "output_type": "execute_result"
    },
    {
     "data": {
      "image/png": "[encoded data removed]",
      "text/plain": [
       "<Figure size 432x288 with 1 Axes>"
      ]
     },
     "metadata": {
      "needs_background": "light"
     },
     "output_type": "display_data"
    }
   ],
   "source": [
    "plt.plot([(i+1)*1e5 for i in range(len(results_double_q))], results_double_q)"
   ]
  },
  {
   "cell_type": "code",
   "execution_count": 26,
   "metadata": {},
   "outputs": [
    {
     "name": "stdout",
     "output_type": "stream",
     "text": [
      "В игре с подсчетом мы в среднем выигрываем -0.169565 ставок - убедиились, что подсчет дает прирост выигрыша\n"
     ]
    }
   ],
   "source": [
    "print(f'В игре с подсчетом мы в среднем выигрываем {results_double_q[-1]} ставок - убедиились, что подсчет дает прирост выигрыша')"
   ]
  },
  {
   "cell_type": "code",
   "execution_count": null,
   "metadata": {},
   "outputs": [],
   "source": []
  }
 ],
 "metadata": {
  "kernelspec": {
   "display_name": "dl",
   "language": "python",
   "name": "dl"
  },
  "language_info": {
   "codemirror_mode": {
    "name": "ipython",
    "version": 3
   },
   "file_extension": ".py",
   "mimetype": "text/x-python",
   "name": "python",
   "nbconvert_exporter": "python",
   "pygments_lexer": "ipython3",
   "version": "3.8.10"
  }
 },
 "nbformat": 4,
 "nbformat_minor": 4
}
