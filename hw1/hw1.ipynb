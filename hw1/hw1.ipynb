{
 "cells": [
  {
   "cell_type": "code",
   "execution_count": 1,
   "metadata": {},
   "outputs": [],
   "source": [
    "import blackjack\n",
    "import numpy as np\n",
    "import matplotlib.pyplot as plt\n",
    "from tqdm import tqdm"
   ]
  },
  {
   "cell_type": "markdown",
   "metadata": {},
   "source": [
    "# Часть первая, с блекджеком и стратегиями"
   ]
  },
  {
   "cell_type": "markdown",
   "metadata": {},
   "source": [
    "### 1. Рассмотрим очень простую стратегию: говорить stand, если у нас на руках комбинация в 19, 20 или 21 очко, во всех остал/ьных случаях говорить hit. Используйте методы Монте-Карло, чтобы оценить выигрыш от этой стратегии."
   ]
  },
  {
   "cell_type": "code",
   "execution_count": 186,
   "metadata": {},
   "outputs": [],
   "source": [
    "# Используем класс по ссылке задания - https://github.com/openai/gym/blob/master/gym/envs/toy_text/blackjack.py \n",
    "env = blackjack.BlackjackEnv(natural=True)"
   ]
  },
  {
   "cell_type": "code",
   "execution_count": 122,
   "metadata": {},
   "outputs": [
    {
     "data": {
      "text/plain": [
       "-0.176285"
      ]
     },
     "execution_count": 122,
     "metadata": {},
     "output_type": "execute_result"
    }
   ],
   "source": [
    "# Усредняем награду по n эпизодам\n",
    "n = 100000\n",
    "rewards = []\n",
    "for i in range(n):\n",
    "    obs = env.reset()\n",
    "    while(True):\n",
    "        if (obs[0] >= 19) and (obs[0] <= 21):\n",
    "            obs, reward, done, _ = env.step(0)\n",
    "        else:\n",
    "            obs, reward, done, _ = env.step(1)\n",
    "        if done:\n",
    "            break\n",
    "    rewards.append(reward)\n",
    "np.mean(rewards)"
   ]
  },
  {
   "cell_type": "markdown",
   "metadata": {},
   "source": [
    "### 2. Реализуйте метод обучения с подкреплением без модели (можно Q-обучение, но рекомендую попробовать и другие, например Monte Carlo control) для обучения стратегии в блекджеке, используя окружение Blackjack-v0 из OpenAI Gym"
   ]
  },
  {
   "cell_type": "code",
   "execution_count": 158,
   "metadata": {},
   "outputs": [],
   "source": [
    "class Q_learning():\n",
    "    # epsilon-greedy Q learning\n",
    "    \n",
    "    def __init__(self, env, alpha=0.1, gamma=1, eps=0.1):\n",
    "        self.env = env\n",
    "        self.alpha = alpha\n",
    "        self.gamma = gamma\n",
    "        self.eps = eps\n",
    "        self.q = np.zeros(([d.n for d in env.observation_space] + [env.action_space.n]))\n",
    "        \n",
    "        \n",
    "    def get_action(self, obs, train=True):\n",
    "        # switch to greedy when we don't need exploration\n",
    "        if train:\n",
    "            # epsilon-greedy\n",
    "            if np.random.rand() < self.eps:\n",
    "                # random action\n",
    "                action = np.random.randint(0, self.env.action_space.n)\n",
    "            else:\n",
    "                # use policy (action with the highest q(s, a))\n",
    "                q_s  = q[obs[0], obs[1], int(obs[2])] # get action q's for given state, n = action_space\n",
    "                action = np.argmax(q_s)\n",
    "            return action\n",
    "        else:\n",
    "            # greedy\n",
    "            q_s  = q[obs[0], obs[1], int(obs[2])] # get action q's for given state, n = action_space\n",
    "            action = np.argmax(q_s)\n",
    "            return action\n",
    "\n",
    "\n",
    "    def train(self, steps, steps_to_validate, validation_episodes=100000):\n",
    "        obs = self.env.reset()\n",
    "        self.validation_rewards = []\n",
    "        for i in tqdm(range(steps)):\n",
    "            action = self.get_action(obs)\n",
    "            # performing the action\n",
    "            obs_next, reward, done, _ = self.env.step(action)\n",
    "            q[obs[0], obs[1], int(obs[2]), action] = (1 - self.alpha) * q[obs[0], obs[1], int(obs[2]), action] +\\\n",
    "                self.alpha * (reward + self.gamma * np.max(q[obs_next[0], obs_next[1], int(obs_next[2])]))\n",
    "            if done:\n",
    "                obs = self.env.reset()\n",
    "            else:\n",
    "                obs = obs_next\n",
    "            if ((i + 1) % steps_to_validate==0 and i!=0):\n",
    "                mean_reward = self.validate(validation_episodes)\n",
    "                self.validation_rewards.append(mean_reward)\n",
    "        print('Training done')\n",
    "        return self.validation_rewards\n",
    "        \n",
    "    def validate(self, episodes):\n",
    "        rewards = []\n",
    "        for i in range(episodes):\n",
    "            obs = self.env.reset()\n",
    "            while(True):\n",
    "                action = self.get_action(obs, train=False)\n",
    "                obs, reward, done, _ = self.env.step(action)\n",
    "                if done:\n",
    "                    break\n",
    "            rewards.append(reward)\n",
    "        return np.mean(rewards)"
   ]
  },
  {
   "cell_type": "markdown",
   "metadata": {},
   "source": [
    "### 3. Сколько выигрывает казино у вашей стратегии? Нарисуйте графики среднего дохода вашего метода (усреднённого по крайней мере по 100000 раздач, а лучше больше) по ходу обучения. Попробуйте подобрать оптимальные гиперпараметры.\n"
   ]
  },
  {
   "cell_type": "code",
   "execution_count": 194,
   "metadata": {},
   "outputs": [],
   "source": [
    "env = blackjack.BlackjackEnv(natural=True)"
   ]
  },
  {
   "cell_type": "code",
   "execution_count": 195,
   "metadata": {},
   "outputs": [],
   "source": [
    "q_learing = Q_learning(env, alpha=0.9, eps=0.2, gamma=0.99)"
   ]
  },
  {
   "cell_type": "code",
   "execution_count": 197,
   "metadata": {},
   "outputs": [
    {
     "name": "stderr",
     "output_type": "stream",
     "text": [
      "100%|██████████| 5000000/5000000 [05:19<00:00, 15667.13it/s]"
     ]
    },
    {
     "name": "stdout",
     "output_type": "stream",
     "text": [
      "Training done\n"
     ]
    },
    {
     "name": "stderr",
     "output_type": "stream",
     "text": [
      "\n"
     ]
    }
   ],
   "source": [
    "results = q_learing.train(int(5e6), int(5e5), int(1e5))"
   ]
  },
  {
   "cell_type": "code",
   "execution_count": 198,
   "metadata": {},
   "outputs": [
    {
     "data": {
      "text/plain": [
       "[<matplotlib.lines.Line2D at 0x7ff071a83370>]"
      ]
     },
     "execution_count": 198,
     "metadata": {},
     "output_type": "execute_result"
    },
    {
     "data": {
      "image/png": "[encoded data removed]",
      "text/plain": [
       "<Figure size 432x288 with 1 Axes>"
      ]
     },
     "metadata": {
      "needs_background": "light"
     },
     "output_type": "display_data"
    }
   ],
   "source": [
    "plt.plot([(i+1)*5e5 for i in range(len(results))], results)"
   ]
  },
  {
   "cell_type": "code",
   "execution_count": 222,
   "metadata": {},
   "outputs": [
    {
     "name": "stdout",
     "output_type": "stream",
     "text": [
      "С учетом относительно оптимальных гиперпараметров мы в среднем выигрываем -0.138384 ставок\n"
     ]
    }
   ],
   "source": [
    "print(f'С учетом относительно оптимальных гиперпараметров мы в среднем выигрываем {q_learing.validate(int(5e5))} ставок')"
   ]
  },
  {
   "cell_type": "markdown",
   "metadata": {},
   "source": [
    "# Часть вторая, удвоенная"
   ]
  },
  {
   "cell_type": "markdown",
   "metadata": {},
   "source": [
    "### 4. Реализуйте новый вариант блекджека на основе окружения Blackjack-v0 из OpenAI Gym, в котором разрешено удвоение ставки.\n"
   ]
  },
  {
   "cell_type": "code",
   "execution_count": 188,
   "metadata": {},
   "outputs": [],
   "source": [
    "# см. blackjack.py - добавлено третье действие в новый класс\n",
    "env = blackjack.BlackjackDoubleEnv(natural=True)"
   ]
  },
  {
   "cell_type": "code",
   "execution_count": 190,
   "metadata": {},
   "outputs": [
    {
     "data": {
      "text/plain": [
       "Discrete(3)"
      ]
     },
     "execution_count": 190,
     "metadata": {},
     "output_type": "execute_result"
    }
   ],
   "source": [
    "env.action_space"
   ]
  },
  {
   "cell_type": "markdown",
   "metadata": {},
   "source": [
    "### 5. Реализуйте метод обучения с подкреплением без модели для этого варианта, постройте графики, аналогичные п.2."
   ]
  },
  {
   "cell_type": "code",
   "execution_count": 17,
   "metadata": {},
   "outputs": [],
   "source": [
    "class Monte_Carlo_control():\n",
    "    # epsilon-greedy Q learning\n",
    "    \n",
    "    def __init__(self, env, gamma=0.99):\n",
    "        self.env = env\n",
    "        self.gamma = gamma\n",
    "        self.q = np.zeros(([d.n for d in env.observation_space] + [env.action_space.n]))\n",
    "        self.ret_n = np.zeros(([d.n for d in env.observation_space] + [env.action_space.n]))\n",
    "        \n",
    "        \n",
    "    def get_action(self, obs, train=True):\n",
    "        # greedy\n",
    "        q_s  = self.q[obs[0], obs[1], int(obs[2])] # get action q's for given state, n = action_space\n",
    "        action = np.argmax(q_s)\n",
    "        return action\n",
    "\n",
    "    def generate_episode (self):\n",
    "        # generating episode with random initial state and action\n",
    "        episode = []\n",
    "        obs = self.env.reset()\n",
    "        # randomly initializing first action\n",
    "        action = np.random.randint(0, self.env.action_space.n)\n",
    "        while(True):\n",
    "            obs_next, reward, done, _ = self.env.step(action)\n",
    "            episode.append((obs, action, reward))\n",
    "            obs = obs_next\n",
    "            action = self.get_action(obs, train=False)\n",
    "            if done:\n",
    "                break\n",
    "        return episode\n",
    "\n",
    "    def train(self, steps, steps_to_validate, validation_episodes=100000):\n",
    "        self.validation_rewards = []\n",
    "        for i in tqdm(range(steps)):\n",
    "            episode = self.generate_episode()\n",
    "            g = 0\n",
    "            for step in reversed(episode):\n",
    "                obs, action, reward = step\n",
    "                g = reward + self.gamma * g\n",
    "                cur_ret = self.q[obs[0], obs[1], int(obs[2]), action]\n",
    "                cur_ret_n = self.ret_n[obs[0], obs[1], int(obs[2]), action]\n",
    "                # updating q using running mean of ret\n",
    "                self.q[obs[0], obs[1], int(obs[2]), action] = cur_ret * cur_ret_n / (cur_ret_n + 1) + g / (cur_ret_n + 1)\n",
    "                self.ret_n[obs[0], obs[1], int(obs[2]), action] += 1                \n",
    "            if ((i + 1) % steps_to_validate==0 and i!=0):\n",
    "                mean_reward = self.validate(validation_episodes)\n",
    "                self.validation_rewards.append(mean_reward)\n",
    "        print('Training done')\n",
    "        return self.validation_rewards\n",
    "        \n",
    "    def validate(self, episodes):\n",
    "        rewards = []\n",
    "        for i in range(episodes):\n",
    "            obs = self.env.reset()\n",
    "            while(True):\n",
    "                action = self.get_action(obs, train=False)\n",
    "                obs, reward, done, _ = self.env.step(action)\n",
    "                if done:\n",
    "                    break\n",
    "            rewards.append(reward)\n",
    "        return np.mean(rewards)"
   ]
  },
  {
   "cell_type": "code",
   "execution_count": 21,
   "metadata": {},
   "outputs": [],
   "source": [
    "env_double = blackjack.BlackjackDoubleEnv(natural=True)"
   ]
  },
  {
   "cell_type": "code",
   "execution_count": 22,
   "metadata": {},
   "outputs": [],
   "source": [
    "mc_double = Monte_Carlo_control(env_double, gamma=0.99)"
   ]
  },
  {
   "cell_type": "code",
   "execution_count": 23,
   "metadata": {},
   "outputs": [
    {
     "name": "stderr",
     "output_type": "stream",
     "text": [
      "100%|██████████| 1000000/1000000 [01:39<00:00, 10045.60it/s]"
     ]
    },
    {
     "name": "stdout",
     "output_type": "stream",
     "text": [
      "Training done\n"
     ]
    },
    {
     "name": "stderr",
     "output_type": "stream",
     "text": [
      "\n"
     ]
    }
   ],
   "source": [
    "results_double = mc_double.train(int(1e6), int(1e5), int(1e5))"
   ]
  },
  {
   "cell_type": "code",
   "execution_count": 24,
   "metadata": {},
   "outputs": [
    {
     "data": {
      "text/plain": [
       "[<matplotlib.lines.Line2D at 0x7f87d78e55e0>]"
      ]
     },
     "execution_count": 24,
     "metadata": {},
     "output_type": "execute_result"
    },
    {
     "data": {
      "image/png": "[encoded data removed]",
      "text/plain": [
       "<Figure size 432x288 with 1 Axes>"
      ]
     },
     "metadata": {
      "needs_background": "light"
     },
     "output_type": "display_data"
    }
   ],
   "source": [
    "plt.plot([(i+1)*1e5 for i in range(len(results_double))], results_double)"
   ]
  },
  {
   "cell_type": "code",
   "execution_count": 25,
   "metadata": {},
   "outputs": [
    {
     "name": "stdout",
     "output_type": "stream",
     "text": [
      "В игре с двойной ставкой мы в среднем выигрываем -0.011307 ставок\n"
     ]
    }
   ],
   "source": [
    "print(f'В игре с двойной ставкой мы в среднем выигрываем {mc_double.validate(int(5e5))} ставок')"
   ]
  },
  {
   "cell_type": "markdown",
   "metadata": {},
   "source": [
    "##### Тестируем Monte Carlo control на обычном блэкджеке для сравнения с Q learning"
   ]
  },
  {
   "cell_type": "code",
   "execution_count": 213,
   "metadata": {},
   "outputs": [],
   "source": [
    "env = blackjack.BlackjackEnv(natural=True)"
   ]
  },
  {
   "cell_type": "code",
   "execution_count": 214,
   "metadata": {},
   "outputs": [],
   "source": [
    "mc = Monte_Carlo_control(env, gamma=0.99)"
   ]
  },
  {
   "cell_type": "code",
   "execution_count": 216,
   "metadata": {},
   "outputs": [
    {
     "name": "stderr",
     "output_type": "stream",
     "text": [
      "100%|██████████| 1000000/1000000 [03:31<00:00, 4727.09it/s]"
     ]
    },
    {
     "name": "stdout",
     "output_type": "stream",
     "text": [
      "Training done\n"
     ]
    },
    {
     "name": "stderr",
     "output_type": "stream",
     "text": [
      "\n"
     ]
    }
   ],
   "source": [
    "results = mc.train(int(1e6), int(1e5), int(1e5))"
   ]
  },
  {
   "cell_type": "code",
   "execution_count": 218,
   "metadata": {},
   "outputs": [
    {
     "data": {
      "text/plain": [
       "[<matplotlib.lines.Line2D at 0x7ff071840a60>]"
      ]
     },
     "execution_count": 218,
     "metadata": {},
     "output_type": "execute_result"
    },
    {
     "data": {
      "image/png": "[encoded data removed]",
      "text/plain": [
       "<Figure size 432x288 with 1 Axes>"
      ]
     },
     "metadata": {
      "needs_background": "light"
     },
     "output_type": "display_data"
    }
   ],
   "source": [
    "plt.plot([(i+1)*1e5 for i in range(len(results))], results)"
   ]
  },
  {
   "cell_type": "code",
   "execution_count": 220,
   "metadata": {},
   "outputs": [
    {
     "name": "stdout",
     "output_type": "stream",
     "text": [
      "С учетом относительно оптимальных гиперпараметров мы в среднем выигрываем -0.137928 ставок, что лучше, чем в Q learning\n"
     ]
    }
   ],
   "source": [
    "print(f'С учетом относительно оптимальных гиперпараметров мы в среднем выигрываем {mc.validate(int(5e5))} ставок, что немного лучше, чем в Q learning')"
   ]
  },
  {
   "cell_type": "markdown",
   "metadata": {},
   "source": [
    "# Часть третья, в главной роли — Дастин Хоффман"
   ]
  },
  {
   "cell_type": "markdown",
   "metadata": {},
   "source": [
    "### Реализуйте вариант окружения Blackjack-v0 из предыдущей части (с удвоением), в котором игрок имеет возможность “считать карты” в колоде. Это можно сделать разными способами; возможно, вам поможет статья википедии о блекджеке (а возможно, и нет)."
   ]
  },
  {
   "cell_type": "code",
   "execution_count": 26,
   "metadata": {},
   "outputs": [],
   "source": [
    "l = [0, 1, 2, 3]"
   ]
  },
  {
   "cell_type": "code",
   "execution_count": 28,
   "metadata": {},
   "outputs": [],
   "source": [
    "import random"
   ]
  },
  {
   "cell_type": "code",
   "execution_count": 49,
   "metadata": {},
   "outputs": [
    {
     "data": {
      "text/plain": [
       "[2, 1, 0, 3]"
      ]
     },
     "execution_count": 49,
     "metadata": {},
     "output_type": "execute_result"
    }
   ],
   "source": [
    "random.sample(l, len(l))"
   ]
  },
  {
   "cell_type": "code",
   "execution_count": 32,
   "metadata": {},
   "outputs": [
    {
     "data": {
      "text/plain": [
       "[0, 3, 1, 2]"
      ]
     },
     "execution_count": 32,
     "metadata": {},
     "output_type": "execute_result"
    }
   ],
   "source": [
    "l"
   ]
  }
 ],
 "metadata": {
  "kernelspec": {
   "display_name": "dl",
   "language": "python",
   "name": "dl"
  },
  "language_info": {
   "codemirror_mode": {
    "name": "ipython",
    "version": 3
   },
   "file_extension": ".py",
   "mimetype": "text/x-python",
   "name": "python",
   "nbconvert_exporter": "python",
   "pygments_lexer": "ipython3",
   "version": "3.8.10"
  }
 },
 "nbformat": 4,
 "nbformat_minor": 4
}
